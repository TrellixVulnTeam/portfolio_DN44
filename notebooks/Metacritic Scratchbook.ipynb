{
 "cells": [
  {
   "cell_type": "code",
   "execution_count": 4,
   "metadata": {},
   "outputs": [
    {
     "name": "stdout",
     "output_type": "stream",
     "text": [
      "['', 'a', 'b', 'c', 'd', 'e', 'f', 'g', 'h', 'i', 'j', 'k', 'l', 'm', 'n', 'o', 'p', 'q', 'r', 's', 't', 'u', 'v', 'w', 'x', 'y', 'z']\n"
     ]
    }
   ],
   "source": [
    "import string\n",
    "\n",
    "lettering = list(string.ascii_lowercase)\n",
    "lettering.insert(0,'')\n",
    "print(lettering)"
   ]
  },
  {
   "cell_type": "code",
   "execution_count": 9,
   "metadata": {},
   "outputs": [
    {
     "name": "stdout",
     "output_type": "stream",
     "text": [
      "['http://www.metacritic.com/browse/albums/artist/?view=detailed', 'http://www.metacritic.com/browse/albums/artist/a?view=detailed', 'http://www.metacritic.com/browse/albums/artist/b?view=detailed', 'http://www.metacritic.com/browse/albums/artist/c?view=detailed', 'http://www.metacritic.com/browse/albums/artist/d?view=detailed', 'http://www.metacritic.com/browse/albums/artist/e?view=detailed', 'http://www.metacritic.com/browse/albums/artist/f?view=detailed', 'http://www.metacritic.com/browse/albums/artist/g?view=detailed', 'http://www.metacritic.com/browse/albums/artist/h?view=detailed', 'http://www.metacritic.com/browse/albums/artist/i?view=detailed', 'http://www.metacritic.com/browse/albums/artist/j?view=detailed', 'http://www.metacritic.com/browse/albums/artist/k?view=detailed', 'http://www.metacritic.com/browse/albums/artist/l?view=detailed', 'http://www.metacritic.com/browse/albums/artist/m?view=detailed', 'http://www.metacritic.com/browse/albums/artist/n?view=detailed', 'http://www.metacritic.com/browse/albums/artist/o?view=detailed', 'http://www.metacritic.com/browse/albums/artist/p?view=detailed', 'http://www.metacritic.com/browse/albums/artist/q?view=detailed', 'http://www.metacritic.com/browse/albums/artist/r?view=detailed', 'http://www.metacritic.com/browse/albums/artist/s?view=detailed', 'http://www.metacritic.com/browse/albums/artist/t?view=detailed', 'http://www.metacritic.com/browse/albums/artist/u?view=detailed', 'http://www.metacritic.com/browse/albums/artist/v?view=detailed', 'http://www.metacritic.com/browse/albums/artist/w?view=detailed', 'http://www.metacritic.com/browse/albums/artist/x?view=detailed', 'http://www.metacritic.com/browse/albums/artist/y?view=detailed', 'http://www.metacritic.com/browse/albums/artist/z?view=detailed']\n"
     ]
    }
   ],
   "source": [
    "start_url = list()\n",
    "\n",
    "\n",
    "for l in lettering:\n",
    "    start_url.append('http://www.metacritic.com/browse/albums/artist/' + l + '?view=detailed')\n",
    "    \n",
    "print(start_url)"
   ]
  },
  {
   "cell_type": "code",
   "execution_count": 12,
   "metadata": {},
   "outputs": [
    {
     "data": {
      "text/plain": [
       "'http://static.metacritic.com/images/products/music/9/c2a005270d7d9538d1cf19f8c3d395d3-98.jpg'"
      ]
     },
     "execution_count": 12,
     "metadata": {},
     "output_type": "execute_result"
    }
   ],
   "source": [
    "img_url = 'http://static.metacritic.com/images/products/music/9/c2a005270d7d9538d1cf19f8c3d395d3-53.jpg'\n",
    "img_url = img_url.replace(\"-53\",\"-98\")\n",
    "img_url"
   ]
  },
  {
   "cell_type": "code",
   "execution_count": 13,
   "metadata": {},
   "outputs": [
    {
     "data": {
      "text/plain": [
       "'B-52s'"
      ]
     },
     "execution_count": 13,
     "metadata": {},
     "output_type": "execute_result"
    }
   ],
   "source": [
    "artist = \" - B-52s\"\n",
    "artist = artist.replace(\" - \",\"\")\n",
    "artist"
   ]
  },
  {
   "cell_type": "code",
   "execution_count": 36,
   "metadata": {},
   "outputs": [
    {
     "data": {
      "text/plain": [
       "['Rock', '...', 'Pop']"
      ]
     },
     "execution_count": 36,
     "metadata": {},
     "output_type": "execute_result"
    }
   ],
   "source": [
    "genres = \"\\n                                                                                    Rock, ...,                                                                                                                 Pop\"\n",
    "genres = genres.strip(' \\t\\n\\r')\n",
    "\n",
    "genres = [elem.strip() for elem in genres.split(\",\")]\n",
    "genres"
   ]
  },
  {
   "cell_type": "code",
   "execution_count": 37,
   "metadata": {},
   "outputs": [
    {
     "data": {
      "text/plain": [
       "['Rock', '...', 'Pop']"
      ]
     },
     "execution_count": 37,
     "metadata": {},
     "output_type": "execute_result"
    }
   ],
   "source": [
    "genres"
   ]
  },
  {
   "cell_type": "code",
   "execution_count": 38,
   "metadata": {},
   "outputs": [
    {
     "data": {
      "text/plain": [
       "['Rock', 'Pop']"
      ]
     },
     "execution_count": 38,
     "metadata": {},
     "output_type": "execute_result"
    }
   ],
   "source": [
    "if '...' in genres:\n",
    "    genres.remove('...')\n",
    "genres"
   ]
  },
  {
   "cell_type": "code",
   "execution_count": 39,
   "metadata": {},
   "outputs": [
    {
     "name": "stdout",
     "output_type": "stream",
     "text": [
      "hello\n"
     ]
    }
   ],
   "source": [
    "if genres is not None:\n",
    "    print(\"hello\")"
   ]
  },
  {
   "cell_type": "code",
   "execution_count": null,
   "metadata": {
    "collapsed": true
   },
   "outputs": [],
   "source": []
  }
 ],
 "metadata": {
  "kernelspec": {
   "display_name": "Python 3",
   "language": "python",
   "name": "python3"
  },
  "language_info": {
   "codemirror_mode": {
    "name": "ipython",
    "version": 3
   },
   "file_extension": ".py",
   "mimetype": "text/x-python",
   "name": "python",
   "nbconvert_exporter": "python",
   "pygments_lexer": "ipython3",
   "version": "3.6.3"
  }
 },
 "nbformat": 4,
 "nbformat_minor": 2
}
