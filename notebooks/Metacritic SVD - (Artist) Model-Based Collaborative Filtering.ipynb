{
 "cells": [
  {
   "cell_type": "code",
   "execution_count": 1,
   "metadata": {
    "collapsed": true
   },
   "outputs": [],
   "source": [
    "import pandas as pd\n",
    "import numpy as np"
   ]
  },
  {
   "cell_type": "code",
   "execution_count": 2,
   "metadata": {},
   "outputs": [
    {
     "name": "stderr",
     "output_type": "stream",
     "text": [
      "/Users/michael/anaconda3/lib/python3.6/site-packages/psycopg2/__init__.py:144: UserWarning: The psycopg2 wheel package will be renamed from release 2.8; in order to keep installing from binary please use \"pip install psycopg2-binary\" instead. For details see: <http://initd.org/psycopg/docs/install.html#binary-install-from-pypi>.\n",
      "  \"\"\")\n"
     ]
    }
   ],
   "source": [
    "import psycopg2\n",
    "try:\n",
    "    conn = psycopg2.connect(\"dbname=metacritic user=postgres\")\n",
    "except:\n",
    "    print(\"cannot connect\")"
   ]
  },
  {
   "cell_type": "code",
   "execution_count": 3,
   "metadata": {
    "collapsed": true
   },
   "outputs": [],
   "source": [
    "cur = conn.cursor()"
   ]
  },
  {
   "cell_type": "code",
   "execution_count": 4,
   "metadata": {
    "collapsed": true
   },
   "outputs": [],
   "source": [
    "import pandas.io.sql as sqlio\n",
    "sql = \"\"\"select round(avg(ratings.album_rating),1) as avg_rating, count(ratings.album_rating) as cnt,\n",
    "albums.artist, ratings.critic_name, ratings.critic_id from ratings\n",
    "JOIN albums ON albums.id = ratings.album_id\n",
    "WHERE albums.artist != 'Various Artists'\n",
    "group by albums.artist, ratings.critic_name, ratings.critic_id\n",
    "order by cnt desc;\"\"\"\n",
    "\n",
    "ratings_df = sqlio.read_sql_query(sql, conn)"
   ]
  },
  {
   "cell_type": "code",
   "execution_count": 6,
   "metadata": {},
   "outputs": [
    {
     "data": {
      "text/plain": [
       "(118852, 5)"
      ]
     },
     "execution_count": 6,
     "metadata": {},
     "output_type": "execute_result"
    }
   ],
   "source": [
    "ratings_df.head()\n",
    "ratings_df.shape"
   ]
  },
  {
   "cell_type": "code",
   "execution_count": 6,
   "metadata": {},
   "outputs": [
    {
     "data": {
      "text/html": [
       "<div>\n",
       "<style>\n",
       "    .dataframe thead tr:only-child th {\n",
       "        text-align: right;\n",
       "    }\n",
       "\n",
       "    .dataframe thead th {\n",
       "        text-align: left;\n",
       "    }\n",
       "\n",
       "    .dataframe tbody tr th {\n",
       "        vertical-align: top;\n",
       "    }\n",
       "</style>\n",
       "<table border=\"1\" class=\"dataframe\">\n",
       "  <thead>\n",
       "    <tr style=\"text-align: right;\">\n",
       "      <th>artist</th>\n",
       "      <th>!!! [Chik Chik Chik]</th>\n",
       "      <th>'68</th>\n",
       "      <th>(+44)</th>\n",
       "      <th>(Sandy) Alex G</th>\n",
       "      <th>*NSYNC</th>\n",
       "      <th>+++ (Crosses)</th>\n",
       "      <th>+/-</th>\n",
       "      <th>...And You Will Know Us by the Trail of Dead</th>\n",
       "      <th>0xCE 0xBC-Ziq</th>\n",
       "      <th>10,000 Maniacs</th>\n",
       "      <th>...</th>\n",
       "      <th>thenewno2</th>\n",
       "      <th>tētēma</th>\n",
       "      <th>will.i.am</th>\n",
       "      <th>worriedaboutsatan</th>\n",
       "      <th>Áine O'Dwyer</th>\n",
       "      <th>Árabrot</th>\n",
       "      <th>Ásgeir</th>\n",
       "      <th>Ólafur Arnalds</th>\n",
       "      <th>Ólöf Arnalds</th>\n",
       "      <th>Ø</th>\n",
       "    </tr>\n",
       "    <tr>\n",
       "      <th>critic_name</th>\n",
       "      <th></th>\n",
       "      <th></th>\n",
       "      <th></th>\n",
       "      <th></th>\n",
       "      <th></th>\n",
       "      <th></th>\n",
       "      <th></th>\n",
       "      <th></th>\n",
       "      <th></th>\n",
       "      <th></th>\n",
       "      <th></th>\n",
       "      <th></th>\n",
       "      <th></th>\n",
       "      <th></th>\n",
       "      <th></th>\n",
       "      <th></th>\n",
       "      <th></th>\n",
       "      <th></th>\n",
       "      <th></th>\n",
       "      <th></th>\n",
       "      <th></th>\n",
       "    </tr>\n",
       "  </thead>\n",
       "  <tbody>\n",
       "    <tr>\n",
       "      <th>Absolute Punk (Staff reviews)</th>\n",
       "      <td>0.0</td>\n",
       "      <td>0</td>\n",
       "      <td>0</td>\n",
       "      <td>0</td>\n",
       "      <td>0</td>\n",
       "      <td>0</td>\n",
       "      <td>0</td>\n",
       "      <td>85.0</td>\n",
       "      <td>0</td>\n",
       "      <td>0</td>\n",
       "      <td>...</td>\n",
       "      <td>0</td>\n",
       "      <td>0</td>\n",
       "      <td>0.0</td>\n",
       "      <td>0</td>\n",
       "      <td>0</td>\n",
       "      <td>0</td>\n",
       "      <td>0</td>\n",
       "      <td>0</td>\n",
       "      <td>0.0</td>\n",
       "      <td>0</td>\n",
       "    </tr>\n",
       "    <tr>\n",
       "      <th>AllMusic</th>\n",
       "      <td>84.3</td>\n",
       "      <td>0</td>\n",
       "      <td>70</td>\n",
       "      <td>80</td>\n",
       "      <td>0</td>\n",
       "      <td>70</td>\n",
       "      <td>80</td>\n",
       "      <td>74.3</td>\n",
       "      <td>70</td>\n",
       "      <td>60</td>\n",
       "      <td>...</td>\n",
       "      <td>0</td>\n",
       "      <td>80</td>\n",
       "      <td>60.0</td>\n",
       "      <td>0</td>\n",
       "      <td>0</td>\n",
       "      <td>0</td>\n",
       "      <td>70</td>\n",
       "      <td>60</td>\n",
       "      <td>70.0</td>\n",
       "      <td>0</td>\n",
       "    </tr>\n",
       "    <tr>\n",
       "      <th>Almost Cool</th>\n",
       "      <td>71.3</td>\n",
       "      <td>0</td>\n",
       "      <td>0</td>\n",
       "      <td>0</td>\n",
       "      <td>0</td>\n",
       "      <td>0</td>\n",
       "      <td>0</td>\n",
       "      <td>76.5</td>\n",
       "      <td>0</td>\n",
       "      <td>0</td>\n",
       "      <td>...</td>\n",
       "      <td>0</td>\n",
       "      <td>0</td>\n",
       "      <td>0.0</td>\n",
       "      <td>0</td>\n",
       "      <td>0</td>\n",
       "      <td>0</td>\n",
       "      <td>0</td>\n",
       "      <td>0</td>\n",
       "      <td>0.0</td>\n",
       "      <td>0</td>\n",
       "    </tr>\n",
       "    <tr>\n",
       "      <th>Alternative Press</th>\n",
       "      <td>76.0</td>\n",
       "      <td>100</td>\n",
       "      <td>60</td>\n",
       "      <td>0</td>\n",
       "      <td>0</td>\n",
       "      <td>80</td>\n",
       "      <td>80</td>\n",
       "      <td>75.6</td>\n",
       "      <td>0</td>\n",
       "      <td>0</td>\n",
       "      <td>...</td>\n",
       "      <td>0</td>\n",
       "      <td>70</td>\n",
       "      <td>0.0</td>\n",
       "      <td>0</td>\n",
       "      <td>0</td>\n",
       "      <td>0</td>\n",
       "      <td>0</td>\n",
       "      <td>0</td>\n",
       "      <td>0.0</td>\n",
       "      <td>0</td>\n",
       "    </tr>\n",
       "    <tr>\n",
       "      <th>Alternative Press (Record Of The Week)</th>\n",
       "      <td>0.0</td>\n",
       "      <td>0</td>\n",
       "      <td>0</td>\n",
       "      <td>0</td>\n",
       "      <td>0</td>\n",
       "      <td>0</td>\n",
       "      <td>0</td>\n",
       "      <td>0.0</td>\n",
       "      <td>0</td>\n",
       "      <td>0</td>\n",
       "      <td>...</td>\n",
       "      <td>0</td>\n",
       "      <td>0</td>\n",
       "      <td>0.0</td>\n",
       "      <td>0</td>\n",
       "      <td>0</td>\n",
       "      <td>0</td>\n",
       "      <td>0</td>\n",
       "      <td>0</td>\n",
       "      <td>0.0</td>\n",
       "      <td>0</td>\n",
       "    </tr>\n",
       "  </tbody>\n",
       "</table>\n",
       "<p>5 rows × 7739 columns</p>\n",
       "</div>"
      ],
      "text/plain": [
       "artist                                  !!! [Chik Chik Chik]  '68  (+44)  \\\n",
       "critic_name                                                                \n",
       "Absolute Punk (Staff reviews)                            0.0    0      0   \n",
       "AllMusic                                                84.3    0     70   \n",
       "Almost Cool                                             71.3    0      0   \n",
       "Alternative Press                                       76.0  100     60   \n",
       "Alternative Press (Record Of The Week)                   0.0    0      0   \n",
       "\n",
       "artist                                  (Sandy) Alex G  *NSYNC  +++ (Crosses)  \\\n",
       "critic_name                                                                     \n",
       "Absolute Punk (Staff reviews)                        0       0              0   \n",
       "AllMusic                                            80       0             70   \n",
       "Almost Cool                                          0       0              0   \n",
       "Alternative Press                                    0       0             80   \n",
       "Alternative Press (Record Of The Week)               0       0              0   \n",
       "\n",
       "artist                                  +/-  \\\n",
       "critic_name                                   \n",
       "Absolute Punk (Staff reviews)             0   \n",
       "AllMusic                                 80   \n",
       "Almost Cool                               0   \n",
       "Alternative Press                        80   \n",
       "Alternative Press (Record Of The Week)    0   \n",
       "\n",
       "artist                                  ...And You Will Know Us by the Trail of Dead  \\\n",
       "critic_name                                                                            \n",
       "Absolute Punk (Staff reviews)                                                   85.0   \n",
       "AllMusic                                                                        74.3   \n",
       "Almost Cool                                                                     76.5   \n",
       "Alternative Press                                                               75.6   \n",
       "Alternative Press (Record Of The Week)                                           0.0   \n",
       "\n",
       "artist                                  0xCE 0xBC-Ziq  10,000 Maniacs ...  \\\n",
       "critic_name                                                           ...   \n",
       "Absolute Punk (Staff reviews)                       0               0 ...   \n",
       "AllMusic                                           70              60 ...   \n",
       "Almost Cool                                         0               0 ...   \n",
       "Alternative Press                                   0               0 ...   \n",
       "Alternative Press (Record Of The Week)              0               0 ...   \n",
       "\n",
       "artist                                  thenewno2  tētēma  will.i.am  \\\n",
       "critic_name                                                            \n",
       "Absolute Punk (Staff reviews)                   0       0        0.0   \n",
       "AllMusic                                        0      80       60.0   \n",
       "Almost Cool                                     0       0        0.0   \n",
       "Alternative Press                               0      70        0.0   \n",
       "Alternative Press (Record Of The Week)          0       0        0.0   \n",
       "\n",
       "artist                                  worriedaboutsatan  Áine O'Dwyer  \\\n",
       "critic_name                                                               \n",
       "Absolute Punk (Staff reviews)                           0             0   \n",
       "AllMusic                                                0             0   \n",
       "Almost Cool                                             0             0   \n",
       "Alternative Press                                       0             0   \n",
       "Alternative Press (Record Of The Week)                  0             0   \n",
       "\n",
       "artist                                  Árabrot  Ásgeir  Ólafur Arnalds  \\\n",
       "critic_name                                                               \n",
       "Absolute Punk (Staff reviews)                 0       0               0   \n",
       "AllMusic                                      0      70              60   \n",
       "Almost Cool                                   0       0               0   \n",
       "Alternative Press                             0       0               0   \n",
       "Alternative Press (Record Of The Week)        0       0               0   \n",
       "\n",
       "artist                                  Ólöf Arnalds  Ø  \n",
       "critic_name                                              \n",
       "Absolute Punk (Staff reviews)                    0.0  0  \n",
       "AllMusic                                        70.0  0  \n",
       "Almost Cool                                      0.0  0  \n",
       "Alternative Press                                0.0  0  \n",
       "Alternative Press (Record Of The Week)           0.0  0  \n",
       "\n",
       "[5 rows x 7739 columns]"
      ]
     },
     "execution_count": 6,
     "metadata": {},
     "output_type": "execute_result"
    }
   ],
   "source": [
    "ratings_pivot = pd.pivot_table(ratings_df, index='critic_name', columns='artist', values='avg_rating',aggfunc=np.max,fill_value=0);\n",
    "ratings_pivot.head()"
   ]
  },
  {
   "cell_type": "code",
   "execution_count": 7,
   "metadata": {},
   "outputs": [
    {
     "data": {
      "text/plain": [
       "(129, 7739)"
      ]
     },
     "execution_count": 7,
     "metadata": {},
     "output_type": "execute_result"
    }
   ],
   "source": [
    "ratings_pivot.shape"
   ]
  },
  {
   "cell_type": "code",
   "execution_count": 8,
   "metadata": {},
   "outputs": [
    {
     "data": {
      "text/plain": [
       "(7739, 129)"
      ]
     },
     "execution_count": 8,
     "metadata": {},
     "output_type": "execute_result"
    }
   ],
   "source": [
    "X = ratings_pivot.values.T # transpose pivot table, getting SVD of critic preferences\n",
    "X.shape"
   ]
  },
  {
   "cell_type": "markdown",
   "metadata": {},
   "source": [
    "### Decomposing the Matrix"
   ]
  },
  {
   "cell_type": "code",
   "execution_count": 9,
   "metadata": {
    "collapsed": true
   },
   "outputs": [],
   "source": [
    "import sklearn\n",
    "from sklearn.decomposition import TruncatedSVD"
   ]
  },
  {
   "cell_type": "code",
   "execution_count": 39,
   "metadata": {},
   "outputs": [
    {
     "data": {
      "text/plain": [
       "(7739, 15)"
      ]
     },
     "execution_count": 39,
     "metadata": {},
     "output_type": "execute_result"
    }
   ],
   "source": [
    "SVD = TruncatedSVD(n_components=15,random_state=17)\n",
    "resultant_matrix = SVD.fit_transform(X)\n",
    "resultant_matrix.shape"
   ]
  },
  {
   "cell_type": "markdown",
   "metadata": {},
   "source": [
    "### Generating Correlation Matrix"
   ]
  },
  {
   "cell_type": "code",
   "execution_count": 40,
   "metadata": {
    "collapsed": true
   },
   "outputs": [],
   "source": [
    "corr_mat = np.corrcoef(resultant_matrix)"
   ]
  },
  {
   "cell_type": "markdown",
   "metadata": {},
   "source": [
    "### (for PostgreSQL purposes)"
   ]
  },
  {
   "cell_type": "code",
   "execution_count": 41,
   "metadata": {},
   "outputs": [
    {
     "data": {
      "text/plain": [
       "7739"
      ]
     },
     "execution_count": 41,
     "metadata": {},
     "output_type": "execute_result"
    }
   ],
   "source": [
    "corr_list = corr_mat.tolist()\n",
    "len(corr_list)"
   ]
  },
  {
   "cell_type": "code",
   "execution_count": 42,
   "metadata": {},
   "outputs": [
    {
     "data": {
      "text/plain": [
       "7739"
      ]
     },
     "execution_count": 42,
     "metadata": {},
     "output_type": "execute_result"
    }
   ],
   "source": [
    "artist_names = ratings_pivot.columns\n",
    "artist_list = list(artist_names)\n",
    "len(artist_list)"
   ]
  },
  {
   "cell_type": "code",
   "execution_count": 43,
   "metadata": {
    "collapsed": true
   },
   "outputs": [],
   "source": [
    "artists_df = pd.DataFrame({'artist':artist_list}); "
   ]
  },
  {
   "cell_type": "code",
   "execution_count": 44,
   "metadata": {},
   "outputs": [
    {
     "data": {
      "text/html": [
       "<div>\n",
       "<style>\n",
       "    .dataframe thead tr:only-child th {\n",
       "        text-align: right;\n",
       "    }\n",
       "\n",
       "    .dataframe thead th {\n",
       "        text-align: left;\n",
       "    }\n",
       "\n",
       "    .dataframe tbody tr th {\n",
       "        vertical-align: top;\n",
       "    }\n",
       "</style>\n",
       "<table border=\"1\" class=\"dataframe\">\n",
       "  <thead>\n",
       "    <tr style=\"text-align: right;\">\n",
       "      <th></th>\n",
       "      <th>artist</th>\n",
       "    </tr>\n",
       "  </thead>\n",
       "  <tbody>\n",
       "    <tr>\n",
       "      <th>0</th>\n",
       "      <td>!!! [Chik Chik Chik]</td>\n",
       "    </tr>\n",
       "    <tr>\n",
       "      <th>1</th>\n",
       "      <td>'68</td>\n",
       "    </tr>\n",
       "    <tr>\n",
       "      <th>2</th>\n",
       "      <td>(+44)</td>\n",
       "    </tr>\n",
       "    <tr>\n",
       "      <th>3</th>\n",
       "      <td>(Sandy) Alex G</td>\n",
       "    </tr>\n",
       "    <tr>\n",
       "      <th>4</th>\n",
       "      <td>*NSYNC</td>\n",
       "    </tr>\n",
       "  </tbody>\n",
       "</table>\n",
       "</div>"
      ],
      "text/plain": [
       "                 artist\n",
       "0  !!! [Chik Chik Chik]\n",
       "1                   '68\n",
       "2                 (+44)\n",
       "3        (Sandy) Alex G\n",
       "4                *NSYNC"
      ]
     },
     "execution_count": 44,
     "metadata": {},
     "output_type": "execute_result"
    }
   ],
   "source": [
    "artists_df.head()"
   ]
  },
  {
   "cell_type": "code",
   "execution_count": 45,
   "metadata": {
    "collapsed": true
   },
   "outputs": [],
   "source": [
    "corr_list = corr_mat.tolist()"
   ]
  },
  {
   "cell_type": "code",
   "execution_count": 46,
   "metadata": {
    "collapsed": true
   },
   "outputs": [],
   "source": [
    "corr_df = pd.DataFrame({'corr_vector': corr_list})"
   ]
  },
  {
   "cell_type": "code",
   "execution_count": 47,
   "metadata": {},
   "outputs": [
    {
     "data": {
      "text/html": [
       "<div>\n",
       "<style>\n",
       "    .dataframe thead tr:only-child th {\n",
       "        text-align: right;\n",
       "    }\n",
       "\n",
       "    .dataframe thead th {\n",
       "        text-align: left;\n",
       "    }\n",
       "\n",
       "    .dataframe tbody tr th {\n",
       "        vertical-align: top;\n",
       "    }\n",
       "</style>\n",
       "<table border=\"1\" class=\"dataframe\">\n",
       "  <thead>\n",
       "    <tr style=\"text-align: right;\">\n",
       "      <th></th>\n",
       "      <th>corr_vector</th>\n",
       "    </tr>\n",
       "  </thead>\n",
       "  <tbody>\n",
       "    <tr>\n",
       "      <th>0</th>\n",
       "      <td>[0.9999999999999999, 0.278365727142314, 0.5105...</td>\n",
       "    </tr>\n",
       "    <tr>\n",
       "      <th>1</th>\n",
       "      <td>[0.278365727142314, 0.9999999999999998, 0.2903...</td>\n",
       "    </tr>\n",
       "    <tr>\n",
       "      <th>2</th>\n",
       "      <td>[0.5105521658881724, 0.2903161015349604, 1.0, ...</td>\n",
       "    </tr>\n",
       "    <tr>\n",
       "      <th>3</th>\n",
       "      <td>[0.6676212188228522, 0.20843020749245114, 0.21...</td>\n",
       "    </tr>\n",
       "    <tr>\n",
       "      <th>4</th>\n",
       "      <td>[0.32267373484904016, 0.03714714327201794, 0.7...</td>\n",
       "    </tr>\n",
       "  </tbody>\n",
       "</table>\n",
       "</div>"
      ],
      "text/plain": [
       "                                         corr_vector\n",
       "0  [0.9999999999999999, 0.278365727142314, 0.5105...\n",
       "1  [0.278365727142314, 0.9999999999999998, 0.2903...\n",
       "2  [0.5105521658881724, 0.2903161015349604, 1.0, ...\n",
       "3  [0.6676212188228522, 0.20843020749245114, 0.21...\n",
       "4  [0.32267373484904016, 0.03714714327201794, 0.7..."
      ]
     },
     "execution_count": 47,
     "metadata": {},
     "output_type": "execute_result"
    }
   ],
   "source": [
    "corr_df.head()"
   ]
  },
  {
   "cell_type": "code",
   "execution_count": 48,
   "metadata": {
    "collapsed": true
   },
   "outputs": [],
   "source": [
    "postgres_df = artists_df.join(corr_df) \n",
    "postgres_df['row'] = postgres_df.index+1"
   ]
  },
  {
   "cell_type": "code",
   "execution_count": 49,
   "metadata": {},
   "outputs": [
    {
     "data": {
      "text/html": [
       "<div>\n",
       "<style>\n",
       "    .dataframe thead tr:only-child th {\n",
       "        text-align: right;\n",
       "    }\n",
       "\n",
       "    .dataframe thead th {\n",
       "        text-align: left;\n",
       "    }\n",
       "\n",
       "    .dataframe tbody tr th {\n",
       "        vertical-align: top;\n",
       "    }\n",
       "</style>\n",
       "<table border=\"1\" class=\"dataframe\">\n",
       "  <thead>\n",
       "    <tr style=\"text-align: right;\">\n",
       "      <th></th>\n",
       "      <th>artist</th>\n",
       "      <th>corr_vector</th>\n",
       "      <th>row</th>\n",
       "    </tr>\n",
       "  </thead>\n",
       "  <tbody>\n",
       "    <tr>\n",
       "      <th>0</th>\n",
       "      <td>!!! [Chik Chik Chik]</td>\n",
       "      <td>[0.9999999999999999, 0.278365727142314, 0.5105...</td>\n",
       "      <td>1</td>\n",
       "    </tr>\n",
       "    <tr>\n",
       "      <th>1</th>\n",
       "      <td>'68</td>\n",
       "      <td>[0.278365727142314, 0.9999999999999998, 0.2903...</td>\n",
       "      <td>2</td>\n",
       "    </tr>\n",
       "    <tr>\n",
       "      <th>2</th>\n",
       "      <td>(+44)</td>\n",
       "      <td>[0.5105521658881724, 0.2903161015349604, 1.0, ...</td>\n",
       "      <td>3</td>\n",
       "    </tr>\n",
       "    <tr>\n",
       "      <th>3</th>\n",
       "      <td>(Sandy) Alex G</td>\n",
       "      <td>[0.6676212188228522, 0.20843020749245114, 0.21...</td>\n",
       "      <td>4</td>\n",
       "    </tr>\n",
       "    <tr>\n",
       "      <th>4</th>\n",
       "      <td>*NSYNC</td>\n",
       "      <td>[0.32267373484904016, 0.03714714327201794, 0.7...</td>\n",
       "      <td>5</td>\n",
       "    </tr>\n",
       "  </tbody>\n",
       "</table>\n",
       "</div>"
      ],
      "text/plain": [
       "                 artist                                        corr_vector  \\\n",
       "0  !!! [Chik Chik Chik]  [0.9999999999999999, 0.278365727142314, 0.5105...   \n",
       "1                   '68  [0.278365727142314, 0.9999999999999998, 0.2903...   \n",
       "2                 (+44)  [0.5105521658881724, 0.2903161015349604, 1.0, ...   \n",
       "3        (Sandy) Alex G  [0.6676212188228522, 0.20843020749245114, 0.21...   \n",
       "4                *NSYNC  [0.32267373484904016, 0.03714714327201794, 0.7...   \n",
       "\n",
       "   row  \n",
       "0    1  \n",
       "1    2  \n",
       "2    3  \n",
       "3    4  \n",
       "4    5  "
      ]
     },
     "execution_count": 49,
     "metadata": {},
     "output_type": "execute_result"
    }
   ],
   "source": [
    "postgres_df.head()"
   ]
  },
  {
   "cell_type": "code",
   "execution_count": 63,
   "metadata": {
    "collapsed": true
   },
   "outputs": [],
   "source": [
    "postgres_df.to_csv('/Users/michael/Desktop/corr_matrix.csv',index=False)"
   ]
  },
  {
   "cell_type": "markdown",
   "metadata": {},
   "source": [
    "## User Input"
   ]
  },
  {
   "cell_type": "code",
   "execution_count": 65,
   "metadata": {},
   "outputs": [
    {
     "name": "stdout",
     "output_type": "stream",
     "text": [
      "Enter artist name: Radiohead\n"
     ]
    }
   ],
   "source": [
    "artist = input(\"Enter artist name: \")"
   ]
  },
  {
   "cell_type": "code",
   "execution_count": 66,
   "metadata": {},
   "outputs": [
    {
     "data": {
      "text/plain": [
       "5263"
      ]
     },
     "execution_count": 66,
     "metadata": {},
     "output_type": "execute_result"
    }
   ],
   "source": [
    "selected_artist = artist_list.index(artist)\n",
    "selected_artist"
   ]
  },
  {
   "cell_type": "code",
   "execution_count": 67,
   "metadata": {},
   "outputs": [
    {
     "data": {
      "text/plain": [
       "(7739,)"
      ]
     },
     "execution_count": 67,
     "metadata": {},
     "output_type": "execute_result"
    }
   ],
   "source": [
    "corr_selected_artist = corr_mat[selected_artist]\n",
    "corr_selected_artist.shape"
   ]
  },
  {
   "cell_type": "code",
   "execution_count": 68,
   "metadata": {
    "scrolled": true
   },
   "outputs": [
    {
     "data": {
      "text/html": [
       "<div>\n",
       "<style>\n",
       "    .dataframe thead tr:only-child th {\n",
       "        text-align: right;\n",
       "    }\n",
       "\n",
       "    .dataframe thead th {\n",
       "        text-align: left;\n",
       "    }\n",
       "\n",
       "    .dataframe tbody tr th {\n",
       "        vertical-align: top;\n",
       "    }\n",
       "</style>\n",
       "<table border=\"1\" class=\"dataframe\">\n",
       "  <thead>\n",
       "    <tr style=\"text-align: right;\">\n",
       "      <th></th>\n",
       "      <th>id</th>\n",
       "      <th>corr</th>\n",
       "    </tr>\n",
       "  </thead>\n",
       "  <tbody>\n",
       "    <tr>\n",
       "      <th>5263</th>\n",
       "      <td>Radiohead</td>\n",
       "      <td>1.000000</td>\n",
       "    </tr>\n",
       "    <tr>\n",
       "      <th>4064</th>\n",
       "      <td>Magnetic Fields</td>\n",
       "      <td>0.996137</td>\n",
       "    </tr>\n",
       "    <tr>\n",
       "      <th>6541</th>\n",
       "      <td>The Flaming Lips</td>\n",
       "      <td>0.993323</td>\n",
       "    </tr>\n",
       "    <tr>\n",
       "      <th>4860</th>\n",
       "      <td>PJ Harvey</td>\n",
       "      <td>0.991917</td>\n",
       "    </tr>\n",
       "    <tr>\n",
       "      <th>7490</th>\n",
       "      <td>Wilco</td>\n",
       "      <td>0.990525</td>\n",
       "    </tr>\n",
       "    <tr>\n",
       "      <th>5975</th>\n",
       "      <td>Spoon</td>\n",
       "      <td>0.989897</td>\n",
       "    </tr>\n",
       "    <tr>\n",
       "      <th>7623</th>\n",
       "      <td>Yo La Tengo</td>\n",
       "      <td>0.989759</td>\n",
       "    </tr>\n",
       "    <tr>\n",
       "      <th>593</th>\n",
       "      <td>Beck</td>\n",
       "      <td>0.987658</td>\n",
       "    </tr>\n",
       "    <tr>\n",
       "      <th>5774</th>\n",
       "      <td>Sigur Rós</td>\n",
       "      <td>0.985434</td>\n",
       "    </tr>\n",
       "    <tr>\n",
       "      <th>607</th>\n",
       "      <td>Belle &amp; Sebastian</td>\n",
       "      <td>0.984228</td>\n",
       "    </tr>\n",
       "  </tbody>\n",
       "</table>\n",
       "</div>"
      ],
      "text/plain": [
       "                     id      corr\n",
       "5263          Radiohead  1.000000\n",
       "4064    Magnetic Fields  0.996137\n",
       "6541   The Flaming Lips  0.993323\n",
       "4860          PJ Harvey  0.991917\n",
       "7490              Wilco  0.990525\n",
       "5975              Spoon  0.989897\n",
       "7623        Yo La Tengo  0.989759\n",
       "593                Beck  0.987658\n",
       "5774          Sigur Rós  0.985434\n",
       "607   Belle & Sebastian  0.984228"
      ]
     },
     "execution_count": 68,
     "metadata": {},
     "output_type": "execute_result"
    }
   ],
   "source": [
    "#corr_range = (corr_selected_artist < 1.0) & (corr_selected_artist > 0.9);\n",
    "#suggested_artists = list(artist_names[corr_range])\n",
    "id_corr_pairings = dict(zip(artist_names,corr_selected_artist))\n",
    "\n",
    "# create data frame linking ids and album correlations so we can sort by correlation!\n",
    "corr_df = pd.DataFrame(list(id_corr_pairings.items()),columns=['id','corr'])\n",
    "#recommendations = corr_df.loc[(corr_df['corr'] > 0.9) & (corr_df['corr'] < 1.0)]\n",
    "corr_df.sort_values(['corr'],ascending=False).head(10)\n",
    "\n",
    "# TODO: maybe suggest album with highest MC rating for each artist?"
   ]
  },
  {
   "cell_type": "code",
   "execution_count": null,
   "metadata": {
    "collapsed": true
   },
   "outputs": [],
   "source": []
  },
  {
   "cell_type": "code",
   "execution_count": null,
   "metadata": {
    "collapsed": true
   },
   "outputs": [],
   "source": []
  }
 ],
 "metadata": {
  "kernelspec": {
   "display_name": "Python 3",
   "language": "python",
   "name": "python3"
  },
  "language_info": {
   "codemirror_mode": {
    "name": "ipython",
    "version": 3
   },
   "file_extension": ".py",
   "mimetype": "text/x-python",
   "name": "python",
   "nbconvert_exporter": "python",
   "pygments_lexer": "ipython3",
   "version": "3.6.3"
  }
 },
 "nbformat": 4,
 "nbformat_minor": 2
}
